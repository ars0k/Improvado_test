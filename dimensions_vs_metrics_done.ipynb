{
 "cells": [
  {
   "cell_type": "code",
   "execution_count": 44,
   "metadata": {},
   "outputs": [],
   "source": [
    "import pandas as pd"
   ]
  },
  {
   "cell_type": "code",
   "execution_count": 45,
   "metadata": {},
   "outputs": [],
   "source": [
    "df = pd.read_csv ('/Users/ars/Desktop/Data_Dictionary_for_CSV_2022_10_11.csv')"
   ]
  },
  {
   "cell_type": "code",
   "execution_count": 46,
   "metadata": {},
   "outputs": [
    {
     "data": {
      "text/html": [
       "<div>\n",
       "<style scoped>\n",
       "    .dataframe tbody tr th:only-of-type {\n",
       "        vertical-align: middle;\n",
       "    }\n",
       "\n",
       "    .dataframe tbody tr th {\n",
       "        vertical-align: top;\n",
       "    }\n",
       "\n",
       "    .dataframe thead th {\n",
       "        text-align: right;\n",
       "    }\n",
       "</style>\n",
       "<table border=\"1\" class=\"dataframe\">\n",
       "  <thead>\n",
       "    <tr style=\"text-align: right;\">\n",
       "      <th></th>\n",
       "      <th>data_source_title</th>\n",
       "      <th>report_type_title</th>\n",
       "      <th>field_title</th>\n",
       "      <th>sql_field_name</th>\n",
       "      <th>api_field_name</th>\n",
       "    </tr>\n",
       "  </thead>\n",
       "  <tbody>\n",
       "    <tr>\n",
       "      <th>0</th>\n",
       "      <td>ACME</td>\n",
       "      <td>Transactions</td>\n",
       "      <td>Amount</td>\n",
       "      <td>amount</td>\n",
       "      <td>Amount</td>\n",
       "    </tr>\n",
       "    <tr>\n",
       "      <th>1</th>\n",
       "      <td>ACME</td>\n",
       "      <td>Transactions</td>\n",
       "      <td>Discount Transaction Value</td>\n",
       "      <td>discount_transaction_value</td>\n",
       "      <td>DiscountTransactionValue</td>\n",
       "    </tr>\n",
       "    <tr>\n",
       "      <th>2</th>\n",
       "      <td>ACME</td>\n",
       "      <td>Transactions</td>\n",
       "      <td>Sale Type</td>\n",
       "      <td>sale_type</td>\n",
       "      <td>SaleType</td>\n",
       "    </tr>\n",
       "    <tr>\n",
       "      <th>3</th>\n",
       "      <td>ACME</td>\n",
       "      <td>Transactions</td>\n",
       "      <td>Sale Channel</td>\n",
       "      <td>sale_channel</td>\n",
       "      <td>SaleChannel</td>\n",
       "    </tr>\n",
       "    <tr>\n",
       "      <th>4</th>\n",
       "      <td>ACME</td>\n",
       "      <td>Transactions</td>\n",
       "      <td>Purchase Type</td>\n",
       "      <td>purchase_type</td>\n",
       "      <td>PurchaseType</td>\n",
       "    </tr>\n",
       "  </tbody>\n",
       "</table>\n",
       "</div>"
      ],
      "text/plain": [
       "  data_source_title report_type_title                 field_title  \\\n",
       "0              ACME      Transactions                      Amount   \n",
       "1              ACME      Transactions  Discount Transaction Value   \n",
       "2              ACME      Transactions                   Sale Type   \n",
       "3              ACME      Transactions                Sale Channel   \n",
       "4              ACME      Transactions               Purchase Type   \n",
       "\n",
       "               sql_field_name            api_field_name  \n",
       "0                      amount                    Amount  \n",
       "1  discount_transaction_value  DiscountTransactionValue  \n",
       "2                   sale_type                  SaleType  \n",
       "3                sale_channel               SaleChannel  \n",
       "4               purchase_type              PurchaseType  "
      ]
     },
     "execution_count": 46,
     "metadata": {},
     "output_type": "execute_result"
    }
   ],
   "source": [
    "df.head()"
   ]
  },
  {
   "cell_type": "code",
   "execution_count": 47,
   "metadata": {},
   "outputs": [],
   "source": [
    "searchfor = ['amount','value','price','balance','quantity','clicks','opens','subscribe','expand','views','rate','tax','bounce','visits','total','avg','estimate','percent','count','cost','conversion','send','opens','reach','ratio','ctr','impressions']"
   ]
  },
  {
   "cell_type": "code",
   "execution_count": 48,
   "metadata": {},
   "outputs": [],
   "source": [
    "metrics = df['sql_field_name'].str.contains('|'.join(searchfor))"
   ]
  },
  {
   "cell_type": "code",
   "execution_count": 49,
   "metadata": {},
   "outputs": [],
   "source": [
    "df['metrics'] = metrics\n",
    "df2 = df[df['metrics'] == True]"
   ]
  },
  {
   "cell_type": "code",
   "execution_count": 50,
   "metadata": {},
   "outputs": [
    {
     "name": "stdout",
     "output_type": "stream",
     "text": [
      "      data_source_title report_type_title                 field_title  \\\n",
      "0                  ACME      Transactions                      Amount   \n",
      "1                  ACME      Transactions  Discount Transaction Value   \n",
      "15                 ACME      Transactions               Discount Name   \n",
      "23                 ACME      Transactions               Discount Code   \n",
      "25                 ACME      Transactions              Discount Value   \n",
      "...                 ...               ...                         ...   \n",
      "31054           Zendesk    Entity Tickets               Comment Count   \n",
      "31102       Zignal Labs  Newsroom Stories                     Country   \n",
      "31114       Zignal Labs       Key Metrics      Impressions News Blogs   \n",
      "31117       Zignal Labs       Key Metrics              Total Mentions   \n",
      "31122       Zignal Labs  Newsroom Stories       Potential Impressions   \n",
      "\n",
      "                   sql_field_name                api_field_name  metrics  \n",
      "0                          amount                        Amount     True  \n",
      "1      discount_transaction_value      DiscountTransactionValue     True  \n",
      "15                  discount_name                  DiscountName     True  \n",
      "23                  discount_code                  DiscountCode     True  \n",
      "25                 discount_value                 DiscountValue     True  \n",
      "...                           ...                           ...      ...  \n",
      "31054               comment_count                 comment_count     True  \n",
      "31102                     country                       country     True  \n",
      "31114      impressions_news_blogs  :calc.impressions_news_blogs     True  \n",
      "31117              total_mentions                mentions.count     True  \n",
      "31122       potential_impressions         potential_impressions     True  \n",
      "\n",
      "[9456 rows x 6 columns]\n"
     ]
    }
   ],
   "source": [
    "#some fields matched as metrics incorretly\n",
    "#need to clean data\n",
    "print(df2)"
   ]
  },
  {
   "cell_type": "code",
   "execution_count": 51,
   "metadata": {},
   "outputs": [],
   "source": [
    "#cleaning from explicit miss matches\n",
    "#maybe there are some more keywords to exclude\n",
    "not_search_for = ['country', 'discount_name','discount_code', 'account']\n",
    "pattern = '|'.join(not_search_for)\n",
    "result = df2[~df2['sql_field_name'].str.contains(pattern, case=False)]"
   ]
  },
  {
   "cell_type": "code",
   "execution_count": 52,
   "metadata": {},
   "outputs": [
    {
     "name": "stdout",
     "output_type": "stream",
     "text": [
      "      data_source_title report_type_title                    field_title  \\\n",
      "0                  ACME      Transactions                         Amount   \n",
      "1                  ACME      Transactions     Discount Transaction Value   \n",
      "25                 ACME      Transactions                 Discount Value   \n",
      "26                 ACME      Transactions              Discounted Amount   \n",
      "27                 ACME      Transactions  Discounted Transaction Amount   \n",
      "...                 ...               ...                            ...   \n",
      "31024           Zendesk    Ticket Metrics                        Reopens   \n",
      "31054           Zendesk    Entity Tickets                  Comment Count   \n",
      "31114       Zignal Labs       Key Metrics         Impressions News Blogs   \n",
      "31117       Zignal Labs       Key Metrics                 Total Mentions   \n",
      "31122       Zignal Labs  Newsroom Stories          Potential Impressions   \n",
      "\n",
      "                      sql_field_name                api_field_name  metrics  \n",
      "0                             amount                        Amount     True  \n",
      "1         discount_transaction_value      DiscountTransactionValue     True  \n",
      "25                    discount_value                 DiscountValue     True  \n",
      "26                 discounted_amount              DiscountedAmount     True  \n",
      "27     discounted_transaction_amount   DiscountedTransactionAmount     True  \n",
      "...                              ...                           ...      ...  \n",
      "31024                        reopens                       reopens     True  \n",
      "31054                  comment_count                 comment_count     True  \n",
      "31114         impressions_news_blogs  :calc.impressions_news_blogs     True  \n",
      "31117                 total_mentions                mentions.count     True  \n",
      "31122          potential_impressions         potential_impressions     True  \n",
      "\n",
      "[8979 rows x 6 columns]\n"
     ]
    }
   ],
   "source": [
    "print(result)"
   ]
  },
  {
   "cell_type": "code",
   "execution_count": 53,
   "metadata": {},
   "outputs": [],
   "source": [
    "total_fields = df[df.columns[0]].count()\n",
    "metrics_count = df2.metrics.sum()"
   ]
  },
  {
   "cell_type": "code",
   "execution_count": 54,
   "metadata": {},
   "outputs": [
    {
     "name": "stdout",
     "output_type": "stream",
     "text": [
      "0.30381699010409974\n"
     ]
    }
   ],
   "source": [
    "print(metrics_count/total_fields)"
   ]
  },
  {
   "cell_type": "code",
   "execution_count": 58,
   "metadata": {},
   "outputs": [],
   "source": [
    "result.to_csv(\"output.csv\", sep=',')"
   ]
  },
  {
   "cell_type": "code",
   "execution_count": 59,
   "metadata": {},
   "outputs": [
    {
     "name": "stdout",
     "output_type": "stream",
     "text": [
      "   data_source_title report_type_title                    field_title  \\\n",
      "0               ACME      Transactions                         Amount   \n",
      "1               ACME      Transactions     Discount Transaction Value   \n",
      "25              ACME      Transactions                 Discount Value   \n",
      "26              ACME      Transactions              Discounted Amount   \n",
      "27              ACME      Transactions  Discounted Transaction Amount   \n",
      "\n",
      "                   sql_field_name               api_field_name  metrics  \n",
      "0                          amount                       Amount     True  \n",
      "1      discount_transaction_value     DiscountTransactionValue     True  \n",
      "25                 discount_value                DiscountValue     True  \n",
      "26              discounted_amount             DiscountedAmount     True  \n",
      "27  discounted_transaction_amount  DiscountedTransactionAmount     True  \n"
     ]
    }
   ],
   "source": [
    "print(result.head())"
   ]
  },
  {
   "cell_type": "code",
   "execution_count": null,
   "metadata": {},
   "outputs": [],
   "source": []
  }
 ],
 "metadata": {
  "kernelspec": {
   "display_name": "Python 3 (ipykernel)",
   "language": "python",
   "name": "python3"
  },
  "language_info": {
   "codemirror_mode": {
    "name": "ipython",
    "version": 3
   },
   "file_extension": ".py",
   "mimetype": "text/x-python",
   "name": "python",
   "nbconvert_exporter": "python",
   "pygments_lexer": "ipython3",
   "version": "3.7.13"
  }
 },
 "nbformat": 4,
 "nbformat_minor": 2
}
